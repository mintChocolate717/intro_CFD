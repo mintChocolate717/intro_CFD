{
 "cells": [
  {
   "cell_type": "markdown",
   "metadata": {},
   "source": [
    "# HW 7 Euler's Equations\n",
    "\n",
    "\n",
    "**Author: Alex Choi**\n",
    "*April 9, 2025$"
   ]
  },
  {
   "cell_type": "markdown",
   "metadata": {},
   "source": [
    "## Function to return primitive variables"
   ]
  },
  {
   "cell_type": "code",
   "execution_count": 19,
   "metadata": {},
   "outputs": [],
   "source": [
    "import numpy as np\n",
    "\n",
    "def U2W(U, g):\n",
    "    \"\"\"\n",
    "    Python equivalent of the MATLAB function:\n",
    "        function V = LOBJ(u, p)\n",
    "    \"\"\"\n",
    "    # u1\n",
    "    rho = U[0]\n",
    "    # u = ρu / ρ = u2 / u1\n",
    "    u = U[1] / U[0]\n",
    "    # pressure\n",
    "    p = (g-1) * (U[2] - U[1]**2 / (2 * U[0]))\n",
    "\n",
    "    return np.array([rho, u, p])\n"
   ]
  },
  {
   "cell_type": "markdown",
   "metadata": {},
   "source": [
    "## Function to return Eigenvectors"
   ]
  },
  {
   "cell_type": "code",
   "execution_count": 20,
   "metadata": {},
   "outputs": [],
   "source": [
    "def eigsEuler(U, g):\n",
    "    \"\"\"\n",
    "    Compute the three eigenvalues of the 1D Euler equations\n",
    "    using the conservative state vector U = [rho, rho*u, E]\n",
    "    and the specific heat ratio gamma = g.\n",
    "\n",
    "    In MATLAB terms, from class notes:\n",
    "      lam1 = u - a\n",
    "      lam2 = u\n",
    "      lam3 = u + a\n",
    "    \n",
    "    Parameters\n",
    "    ----------\n",
    "    U : array-like of length 3\n",
    "        U[0] = rho (density)\n",
    "        U[1] = rho * u (momentum)\n",
    "        U[2] = E (total energy)\n",
    "    g : float\n",
    "        gamma (specific heat ratio), e.g. 1.4\n",
    "\n",
    "    Returns\n",
    "    -------\n",
    "    lambda : numpy.ndarray of length 3\n",
    "        [u - a, u, u + a]\n",
    "    \"\"\"\n",
    "    # Convert U to the primitive variables [rho, u, p] via your U2W function\n",
    "    w = U2W(U, g)\n",
    "    rho = w[0]\n",
    "    u   = w[1]\n",
    "    p   = w[2]\n",
    "    \n",
    "    # Speed of sound a = sqrt(g * p / rho)\n",
    "    a = np.sqrt(g * p / rho)\n",
    "    \n",
    "    # Eigenvalues  -> λ1 = u - a, λ2 = u, λ3 = u + a\n",
    "    eval1 = u - a\n",
    "    eval2 = u\n",
    "    eval3 = u + a\n",
    "    \n",
    "    return np.array([eval1, eval2, eval3])\n"
   ]
  },
  {
   "cell_type": "markdown",
   "metadata": {},
   "source": [
    "## Functinot to return the flux vector"
   ]
  },
  {
   "cell_type": "code",
   "execution_count": 21,
   "metadata": {},
   "outputs": [],
   "source": [
    "def fluxEuler(U, g):\n",
    "    \"\"\"\n",
    "    Compute the flux of the 1D Euler equations based on the state U.\n",
    "\n",
    "    Recall from class notes (in MATLAB):\n",
    "      F = (rho * u, rho * u^2 + p, u * (E + p))\n",
    "\n",
    "    Parameters\n",
    "    ----------\n",
    "    U : array-like of length 3\n",
    "        [rho, rho*u, E]\n",
    "    g : float\n",
    "        gamma, the specific heat ratio (e.g., 1.4)\n",
    "\n",
    "    Returns\n",
    "    -------\n",
    "    F : numpy.ndarray of length 3\n",
    "        [F1, F2, F3] corresponding to \n",
    "         rho*u, rho*u^2 + p, and u*(E + p).\n",
    "    \"\"\"\n",
    "\n",
    "    # Convert from conservative variables (U) to primitive variables w = [rho, u, p]\n",
    "    w = U2W(U, g)\n",
    "    rho = w[0]\n",
    "    u = w[1]\n",
    "    p = w[2]\n",
    "\n",
    "    # The total energy E is the third component of U\n",
    "    E = U[2]\n",
    "\n",
    "    # Components of the flux\n",
    "    F1 = rho * u\n",
    "    F2 = rho * (u**2) + p\n",
    "    F3 = u * (E + p)\n",
    "\n",
    "    return np.array([F1, F2, F3])"
   ]
  },
  {
   "cell_type": "markdown",
   "metadata": {},
   "source": [
    "## Test out values:"
   ]
  },
  {
   "cell_type": "code",
   "execution_count": 22,
   "metadata": {},
   "outputs": [
    {
     "name": "stdout",
     "output_type": "stream",
     "text": [
      "\n",
      "\n",
      "--- W ----\n",
      "   1.000e+00    7.500e-01    1.000e+00\n",
      "   1.000e+00   -2.000e+00    4.000e-01\n",
      "   1.250e-01    0.000e+00    1.000e-01\n",
      "   5.992e+00   -6.196e+00    4.609e+01\n",
      "   1.000e+00   -1.960e+01    1.000e-02\n",
      "\n",
      "\n",
      "--- lambda ----\n",
      "  -4.332e-01    7.500e-01    1.933e+00\n",
      "  -2.748e+00   -2.000e+00   -1.252e+00\n",
      "  -1.058e+00    0.000e+00    1.058e+00\n",
      "  -9.478e+00   -6.196e+00   -2.915e+00\n",
      "  -1.972e+01   -1.960e+01   -1.948e+01\n",
      "\n",
      "\n",
      "--- F ----\n",
      "   7.500e-01    1.562e+00    2.836e+00\n",
      "  -2.000e+00    4.400e+00   -6.800e+00\n",
      "   0.000e+00    1.000e-01    0.000e+00\n",
      "  -3.713e+01    2.762e+02   -1.712e+03\n",
      "  -1.960e+01    3.841e+02   -3.764e+03\n"
     ]
    }
   ],
   "source": [
    "from scipy.io import loadmat\n",
    "    \n",
    "# Specific heat ratio (gamma)\n",
    "g = 1.4\n",
    "\n",
    "# Load the MAT-file containing U.\n",
    "# The MATLAB file should have the variable U (an N x 3 array).\n",
    "mat_data = loadmat('U.mat')\n",
    "U = mat_data['U']  # U is assumed to be an N x 3 matrix\n",
    "\n",
    "n = U.shape[0]\n",
    "\n",
    "# Initialize lists to store the results for each U vector\n",
    "W_list = []       # for primitive variables\n",
    "lambda_list = []  # for eigenvalues\n",
    "F_list = []       # for fluxes\n",
    "\n",
    "# Loop over each state (each row of U)\n",
    "for i in range(n):\n",
    "    state = U[i, :]          # a 3-element vector: [rho, rho*u, E]\n",
    "    W_i = U2W(state, g)\n",
    "    lambda_i = eigsEuler(state, g)\n",
    "    F_i = fluxEuler(state, g)\n",
    "    W_list.append(W_i)\n",
    "    lambda_list.append(lambda_i)\n",
    "    F_list.append(F_i)\n",
    "\n",
    "# Convert lists to NumPy arrays for easier formatting if needed\n",
    "W = np.array(W_list)\n",
    "lambdas = np.array(lambda_list)\n",
    "F = np.array(F_list)\n",
    "\n",
    "# Print the results similar to MATLAB's fprintf formatting.\n",
    "print(\"\\n\\n--- W ----\")\n",
    "for i in range(n):\n",
    "    # Each value is printed in the %12.3e format\n",
    "    print(f\"{W[i,0]:12.3e} {W[i,1]:12.3e} {W[i,2]:12.3e}\")\n",
    "\n",
    "print(\"\\n\\n--- lambda ----\")\n",
    "for i in range(n):\n",
    "    print(f\"{lambdas[i,0]:12.3e} {lambdas[i,1]:12.3e} {lambdas[i,2]:12.3e}\")\n",
    "\n",
    "print(\"\\n\\n--- F ----\")\n",
    "for i in range(n):\n",
    "    print(f\"{F[i,0]:12.3e} {F[i,1]:12.3e} {F[i,2]:12.3e}\")"
   ]
  },
  {
   "cell_type": "markdown",
   "metadata": {},
   "source": []
  }
 ],
 "metadata": {
  "kernelspec": {
   "display_name": "base",
   "language": "python",
   "name": "python3"
  },
  "language_info": {
   "codemirror_mode": {
    "name": "ipython",
    "version": 3
   },
   "file_extension": ".py",
   "mimetype": "text/x-python",
   "name": "python",
   "nbconvert_exporter": "python",
   "pygments_lexer": "ipython3",
   "version": "3.11.7"
  }
 },
 "nbformat": 4,
 "nbformat_minor": 2
}
